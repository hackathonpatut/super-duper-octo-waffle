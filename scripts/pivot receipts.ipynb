{
 "cells": [
  {
   "cell_type": "code",
   "execution_count": 30,
   "metadata": {
    "collapsed": true
   },
   "outputs": [],
   "source": [
    "import pandas as pd\n",
    "import numpy as np"
   ]
  },
  {
   "cell_type": "code",
   "execution_count": 113,
   "metadata": {},
   "outputs": [
    {
     "name": "stdout",
     "output_type": "stream",
     "text": [
      "Wall time: 133 ms\n"
     ]
    }
   ],
   "source": [
    "\n",
    "import dask.dataframe as dd\n",
    "\n",
    "data_path = '../data'\n",
    "receipts = 'Junction_Data.csv'\n",
    "receipts_sample = 'Junction_SampleData.csv'\n",
    "\n",
    "# Dtypes https://docs.scipy.org/doc/numpy-1.15.0/user/basics.types.html\n",
    "%time df = dd.read_csv(data_path + '/' + receipts, sep=';', \\\n",
    "                       dtype={'Receipt': str, 'EAN': str,'KCustomer': 'int16'})"
   ]
  },
  {
   "cell_type": "code",
   "execution_count": 92,
   "metadata": {},
   "outputs": [],
   "source": [
    "KCustomer = df.loc[:,['EAN', 'KCustomer']]"
   ]
  },
  {
   "cell_type": "code",
   "execution_count": 187,
   "metadata": {},
   "outputs": [
    {
     "name": "stdout",
     "output_type": "stream",
     "text": [
      "Wall time: 17 ms\n",
      "Wall time: 19 ms\n"
     ]
    }
   ],
   "source": [
    "%time df2 = pd.read_csv(data_path + '/' + receipts_sample, sep=';' )\n",
    "%time dfs = dd.read_csv(data_path + '/' + receipts_sample, sep=';',  \\\n",
    "                       dtype={'Receipt': str, 'EAN': str,'KCustomer': str})\n",
    "dfs = dfs.categorize(\"KCustomer\")"
   ]
  },
  {
   "cell_type": "code",
   "execution_count": 13,
   "metadata": {
    "scrolled": true
   },
   "outputs": [
    {
     "data": {
      "text/html": [
       "<div>\n",
       "<style scoped>\n",
       "    .dataframe tbody tr th:only-of-type {\n",
       "        vertical-align: middle;\n",
       "    }\n",
       "\n",
       "    .dataframe tbody tr th {\n",
       "        vertical-align: top;\n",
       "    }\n",
       "\n",
       "    .dataframe thead th {\n",
       "        text-align: right;\n",
       "    }\n",
       "</style>\n",
       "<table border=\"1\" class=\"dataframe\">\n",
       "  <thead>\n",
       "    <tr style=\"text-align: right;\">\n",
       "      <th></th>\n",
       "      <th>Receipt</th>\n",
       "      <th>TransactionDate</th>\n",
       "      <th>BeginHour</th>\n",
       "      <th>EAN</th>\n",
       "      <th>Quantity</th>\n",
       "      <th>PersonAgeGrp</th>\n",
       "      <th>KCustomer</th>\n",
       "      <th>QualClass</th>\n",
       "      <th>EasyClass</th>\n",
       "    </tr>\n",
       "  </thead>\n",
       "  <tbody>\n",
       "    <tr>\n",
       "      <th>0</th>\n",
       "      <td>314323843279212</td>\n",
       "      <td>2017-04-01</td>\n",
       "      <td>7</td>\n",
       "      <td>6420256014004</td>\n",
       "      <td>1,000000</td>\n",
       "      <td>45-54</td>\n",
       "      <td>6711</td>\n",
       "      <td>Q_4-7</td>\n",
       "      <td>E_4-7</td>\n",
       "    </tr>\n",
       "    <tr>\n",
       "      <th>1</th>\n",
       "      <td>314323843279212</td>\n",
       "      <td>2017-04-01</td>\n",
       "      <td>7</td>\n",
       "      <td>6410405111340</td>\n",
       "      <td>5,000000</td>\n",
       "      <td>45-54</td>\n",
       "      <td>6711</td>\n",
       "      <td>Q_4-7</td>\n",
       "      <td>E_4-7</td>\n",
       "    </tr>\n",
       "    <tr>\n",
       "      <th>2</th>\n",
       "      <td>314323843279212</td>\n",
       "      <td>2017-04-01</td>\n",
       "      <td>7</td>\n",
       "      <td>2000818700008</td>\n",
       "      <td>1,073000</td>\n",
       "      <td>45-54</td>\n",
       "      <td>6711</td>\n",
       "      <td>Q_4-7</td>\n",
       "      <td>E_4-7</td>\n",
       "    </tr>\n",
       "    <tr>\n",
       "      <th>3</th>\n",
       "      <td>314323911727415</td>\n",
       "      <td>2017-04-01</td>\n",
       "      <td>15</td>\n",
       "      <td>6411200103295</td>\n",
       "      <td>1,000000</td>\n",
       "      <td>65-</td>\n",
       "      <td>6715</td>\n",
       "      <td>Q_8-10</td>\n",
       "      <td>E_4-7</td>\n",
       "    </tr>\n",
       "    <tr>\n",
       "      <th>4</th>\n",
       "      <td>314323911727415</td>\n",
       "      <td>2017-04-01</td>\n",
       "      <td>15</td>\n",
       "      <td>6411402105806</td>\n",
       "      <td>1,000000</td>\n",
       "      <td>65-</td>\n",
       "      <td>6715</td>\n",
       "      <td>Q_8-10</td>\n",
       "      <td>E_4-7</td>\n",
       "    </tr>\n",
       "  </tbody>\n",
       "</table>\n",
       "</div>"
      ],
      "text/plain": [
       "           Receipt TransactionDate  BeginHour            EAN  Quantity  \\\n",
       "0  314323843279212      2017-04-01          7  6420256014004  1,000000   \n",
       "1  314323843279212      2017-04-01          7  6410405111340  5,000000   \n",
       "2  314323843279212      2017-04-01          7  2000818700008  1,073000   \n",
       "3  314323911727415      2017-04-01         15  6411200103295  1,000000   \n",
       "4  314323911727415      2017-04-01         15  6411402105806  1,000000   \n",
       "\n",
       "  PersonAgeGrp  KCustomer QualClass EasyClass  \n",
       "0        45-54       6711     Q_4-7     E_4-7  \n",
       "1        45-54       6711     Q_4-7     E_4-7  \n",
       "2        45-54       6711     Q_4-7     E_4-7  \n",
       "3          65-       6715    Q_8-10     E_4-7  \n",
       "4          65-       6715    Q_8-10     E_4-7  "
      ]
     },
     "execution_count": 13,
     "metadata": {},
     "output_type": "execute_result"
    }
   ],
   "source": [
    "df.head()"
   ]
  },
  {
   "cell_type": "code",
   "execution_count": 54,
   "metadata": {},
   "outputs": [
    {
     "data": {
      "text/plain": [
       "Index(['Receipt', 'TransactionDate', 'BeginHour', 'EAN', 'Quantity',\n",
       "       'PersonAgeGrp', 'KCustomer', 'QualClass', 'EasyClass'],\n",
       "      dtype='object')"
      ]
     },
     "execution_count": 54,
     "metadata": {},
     "output_type": "execute_result"
    }
   ],
   "source": [
    "df.columns"
   ]
  },
  {
   "cell_type": "code",
   "execution_count": 53,
   "metadata": {},
   "outputs": [],
   "source": [
    "uniques = df.EAN.unique().compute()"
   ]
  },
  {
   "cell_type": "code",
   "execution_count": 57,
   "metadata": {
    "scrolled": true
   },
   "outputs": [
    {
     "name": "stdout",
     "output_type": "stream",
     "text": [
      "Datassa on 107136 eri tuotetta\n"
     ]
    }
   ],
   "source": [
    "print(\"Datassa on \" + str(len(uniques)) + \" eri tuotetta\")"
   ]
  },
  {
   "cell_type": "code",
   "execution_count": 62,
   "metadata": {
    "collapsed": true
   },
   "outputs": [],
   "source": [
    "df_t = pd.DataFrame({\"A\": [\"foo\", \"foo\", \"foo\", \"foo\", \"foo\",\n",
    "                          \"bar\", \"bar\", \"bar\", \"bar\"],\n",
    "                    \"B\": [\"one\", \"one\", \"one\", \"two\", \"two\",\n",
    "                          \"one\", \"one\", \"two\", \"two\"],\n",
    "                    \"C\": [\"small\", \"large\", \"large\", \"small\",\n",
    "                          \"small\", \"large\", \"small\", \"small\",\n",
    "                          \"large\"],\n",
    "                    \"D\": [1, 2, 2, 3, 3, 4, 5, 6, 7]})"
   ]
  },
  {
   "cell_type": "code",
   "execution_count": 69,
   "metadata": {},
   "outputs": [
    {
     "data": {
      "text/html": [
       "<div>\n",
       "<style scoped>\n",
       "    .dataframe tbody tr th:only-of-type {\n",
       "        vertical-align: middle;\n",
       "    }\n",
       "\n",
       "    .dataframe tbody tr th {\n",
       "        vertical-align: top;\n",
       "    }\n",
       "\n",
       "    .dataframe thead th {\n",
       "        text-align: right;\n",
       "    }\n",
       "</style>\n",
       "<table border=\"1\" class=\"dataframe\">\n",
       "  <thead>\n",
       "    <tr style=\"text-align: right;\">\n",
       "      <th></th>\n",
       "      <th>D</th>\n",
       "    </tr>\n",
       "    <tr>\n",
       "      <th>A</th>\n",
       "      <th></th>\n",
       "    </tr>\n",
       "  </thead>\n",
       "  <tbody>\n",
       "    <tr>\n",
       "      <th>bar</th>\n",
       "      <td>4</td>\n",
       "    </tr>\n",
       "    <tr>\n",
       "      <th>foo</th>\n",
       "      <td>5</td>\n",
       "    </tr>\n",
       "  </tbody>\n",
       "</table>\n",
       "</div>"
      ],
      "text/plain": [
       "     D\n",
       "A     \n",
       "bar  4\n",
       "foo  5"
      ]
     },
     "execution_count": 69,
     "metadata": {},
     "output_type": "execute_result"
    }
   ],
   "source": [
    "pd.pivot_table(df_t, values='D', index=['A'], columns=[], aggfunc=len)"
   ]
  },
  {
   "cell_type": "code",
   "execution_count": 128,
   "metadata": {},
   "outputs": [
    {
     "data": {
      "text/html": [
       "<div>\n",
       "<style scoped>\n",
       "    .dataframe tbody tr th:only-of-type {\n",
       "        vertical-align: middle;\n",
       "    }\n",
       "\n",
       "    .dataframe tbody tr th {\n",
       "        vertical-align: top;\n",
       "    }\n",
       "\n",
       "    .dataframe thead th {\n",
       "        text-align: right;\n",
       "    }\n",
       "</style>\n",
       "<table border=\"1\" class=\"dataframe\">\n",
       "  <thead>\n",
       "    <tr style=\"text-align: right;\">\n",
       "      <th>KCustomer</th>\n",
       "      <th>6713.0</th>\n",
       "      <th>6715.0</th>\n",
       "      <th>6711.0</th>\n",
       "      <th>6712.0</th>\n",
       "      <th>6714.0</th>\n",
       "    </tr>\n",
       "    <tr>\n",
       "      <th>KCustomer</th>\n",
       "      <th></th>\n",
       "      <th></th>\n",
       "      <th></th>\n",
       "      <th></th>\n",
       "      <th></th>\n",
       "    </tr>\n",
       "  </thead>\n",
       "  <tbody>\n",
       "    <tr>\n",
       "      <th>6713.0</th>\n",
       "      <td>7050872.0</td>\n",
       "      <td>0.0</td>\n",
       "      <td>0.0</td>\n",
       "      <td>0.0</td>\n",
       "      <td>0.0</td>\n",
       "    </tr>\n",
       "    <tr>\n",
       "      <th>6715.0</th>\n",
       "      <td>0.0</td>\n",
       "      <td>4111243.0</td>\n",
       "      <td>0.0</td>\n",
       "      <td>0.0</td>\n",
       "      <td>0.0</td>\n",
       "    </tr>\n",
       "    <tr>\n",
       "      <th>6711.0</th>\n",
       "      <td>0.0</td>\n",
       "      <td>0.0</td>\n",
       "      <td>9414712.0</td>\n",
       "      <td>0.0</td>\n",
       "      <td>0.0</td>\n",
       "    </tr>\n",
       "    <tr>\n",
       "      <th>6712.0</th>\n",
       "      <td>0.0</td>\n",
       "      <td>0.0</td>\n",
       "      <td>0.0</td>\n",
       "      <td>20675378.0</td>\n",
       "      <td>0.0</td>\n",
       "    </tr>\n",
       "    <tr>\n",
       "      <th>6714.0</th>\n",
       "      <td>0.0</td>\n",
       "      <td>0.0</td>\n",
       "      <td>0.0</td>\n",
       "      <td>0.0</td>\n",
       "      <td>3514830.0</td>\n",
       "    </tr>\n",
       "  </tbody>\n",
       "</table>\n",
       "</div>"
      ],
      "text/plain": [
       "KCustomer     6713.0     6715.0     6711.0      6712.0     6714.0\n",
       "KCustomer                                                        \n",
       "6713.0     7050872.0        0.0        0.0         0.0        0.0\n",
       "6715.0           0.0  4111243.0        0.0         0.0        0.0\n",
       "6711.0           0.0        0.0  9414712.0         0.0        0.0\n",
       "6712.0           0.0        0.0        0.0  20675378.0        0.0\n",
       "6714.0           0.0        0.0        0.0         0.0  3514830.0"
      ]
     },
     "execution_count": 128,
     "metadata": {},
     "output_type": "execute_result"
    }
   ],
   "source": [
    "\n",
    "# https://stackoverflow.com/questions/42636152/after-using-dask-pivot-table-i-lose-the-index-column\n",
    "KCustomer = KCustomer.categorize(\"KCustomer\")\n",
    "customer_pivot = KCustomer.pivot_table(values='EAN', index='KCustomer', columns='KCustomer', aggfunc='count').compute()\n",
    "customer_pivot"
   ]
  },
  {
   "cell_type": "code",
   "execution_count": 112,
   "metadata": {},
   "outputs": [
    {
     "name": "stdout",
     "output_type": "stream",
     "text": [
      "Datassa contains 44767036 row\n"
     ]
    }
   ],
   "source": [
    "n_receipts = KCustomer.shape[0].compute()\n",
    "print(\"Datassa contains \" + str(n_receipts) + \" row\")"
   ]
  },
  {
   "cell_type": "code",
   "execution_count": 130,
   "metadata": {},
   "outputs": [
    {
     "data": {
      "text/plain": [
       "(107135, 0)"
      ]
     },
     "execution_count": 130,
     "metadata": {},
     "output_type": "execute_result"
    }
   ],
   "source": [
    "ean_pivot.shape"
   ]
  },
  {
   "cell_type": "code",
   "execution_count": 146,
   "metadata": {},
   "outputs": [],
   "source": [
    "KCustomer2 = KCustomer.loc[1:200,:]"
   ]
  },
  {
   "cell_type": "code",
   "execution_count": 147,
   "metadata": {},
   "outputs": [
    {
     "data": {
      "text/plain": [
       "11200"
      ]
     },
     "execution_count": 147,
     "metadata": {},
     "output_type": "execute_result"
    }
   ],
   "source": [
    "KCustomer2.shape[0].compute()"
   ]
  },
  {
   "cell_type": "code",
   "execution_count": null,
   "metadata": {
    "collapsed": true
   },
   "outputs": [],
   "source": [
    "uniq"
   ]
  },
  {
   "cell_type": "code",
   "execution_count": 178,
   "metadata": {},
   "outputs": [
    {
     "data": {
      "text/plain": [
       "KCustomer\n",
       "6711    2068\n",
       "6712    2132\n",
       "6713    2111\n",
       "6714    1612\n",
       "6715    2077\n",
       "Name: KCustomer, dtype: int64"
      ]
     },
     "execution_count": 178,
     "metadata": {},
     "output_type": "execute_result"
    }
   ],
   "source": [
    "dfs.groupby('KCustomer')['KCustomer'].aggregate(len)"
   ]
  },
  {
   "cell_type": "code",
   "execution_count": 179,
   "metadata": {},
   "outputs": [
    {
     "data": {
      "text/plain": [
       "KCustomer\n",
       "6711    2068\n",
       "6712    2132\n",
       "6713    2111\n",
       "6714    1612\n",
       "6715    2077\n",
       "Name: KCustomer, dtype: int64"
      ]
     },
     "execution_count": 179,
     "metadata": {},
     "output_type": "execute_result"
    }
   ],
   "source": [
    "dfs.groupby('KCustomer').KCustomer.count()"
   ]
  },
  {
   "cell_type": "code",
   "execution_count": 190,
   "metadata": {},
   "outputs": [
    {
     "data": {
      "text/html": [
       "<div>\n",
       "<style scoped>\n",
       "    .dataframe tbody tr th:only-of-type {\n",
       "        vertical-align: middle;\n",
       "    }\n",
       "\n",
       "    .dataframe tbody tr th {\n",
       "        vertical-align: top;\n",
       "    }\n",
       "\n",
       "    .dataframe thead th {\n",
       "        text-align: right;\n",
       "    }\n",
       "</style>\n",
       "<table border=\"1\" class=\"dataframe\">\n",
       "  <thead>\n",
       "    <tr style=\"text-align: right;\">\n",
       "      <th></th>\n",
       "      <th>Receipt</th>\n",
       "      <th>TransactionDate</th>\n",
       "      <th>BeginHour</th>\n",
       "      <th>EAN</th>\n",
       "      <th>Quantity</th>\n",
       "      <th>PersonAgeGrp</th>\n",
       "      <th>KCustomer</th>\n",
       "      <th>QualClass</th>\n",
       "      <th>EasyClass</th>\n",
       "    </tr>\n",
       "  </thead>\n",
       "  <tbody>\n",
       "    <tr>\n",
       "      <th>0</th>\n",
       "      <td>314323843279212</td>\n",
       "      <td>2017-04-01</td>\n",
       "      <td>7</td>\n",
       "      <td>6420256014004</td>\n",
       "      <td>1,000000</td>\n",
       "      <td>45-54</td>\n",
       "      <td>6711</td>\n",
       "      <td>Q_4-7</td>\n",
       "      <td>E_4-7</td>\n",
       "    </tr>\n",
       "    <tr>\n",
       "      <th>1</th>\n",
       "      <td>314323843279212</td>\n",
       "      <td>2017-04-01</td>\n",
       "      <td>7</td>\n",
       "      <td>6410405111340</td>\n",
       "      <td>5,000000</td>\n",
       "      <td>45-54</td>\n",
       "      <td>6711</td>\n",
       "      <td>Q_4-7</td>\n",
       "      <td>E_4-7</td>\n",
       "    </tr>\n",
       "    <tr>\n",
       "      <th>2</th>\n",
       "      <td>314323843279212</td>\n",
       "      <td>2017-04-01</td>\n",
       "      <td>7</td>\n",
       "      <td>2000818700008</td>\n",
       "      <td>1,073000</td>\n",
       "      <td>45-54</td>\n",
       "      <td>6711</td>\n",
       "      <td>Q_4-7</td>\n",
       "      <td>E_4-7</td>\n",
       "    </tr>\n",
       "    <tr>\n",
       "      <th>3</th>\n",
       "      <td>314323911727415</td>\n",
       "      <td>2017-04-01</td>\n",
       "      <td>15</td>\n",
       "      <td>6411200103295</td>\n",
       "      <td>1,000000</td>\n",
       "      <td>65-</td>\n",
       "      <td>6715</td>\n",
       "      <td>Q_8-10</td>\n",
       "      <td>E_4-7</td>\n",
       "    </tr>\n",
       "    <tr>\n",
       "      <th>4</th>\n",
       "      <td>314323911727415</td>\n",
       "      <td>2017-04-01</td>\n",
       "      <td>15</td>\n",
       "      <td>6411402105806</td>\n",
       "      <td>1,000000</td>\n",
       "      <td>65-</td>\n",
       "      <td>6715</td>\n",
       "      <td>Q_8-10</td>\n",
       "      <td>E_4-7</td>\n",
       "    </tr>\n",
       "  </tbody>\n",
       "</table>\n",
       "</div>"
      ],
      "text/plain": [
       "           Receipt TransactionDate  BeginHour            EAN  Quantity  \\\n",
       "0  314323843279212      2017-04-01          7  6420256014004  1,000000   \n",
       "1  314323843279212      2017-04-01          7  6410405111340  5,000000   \n",
       "2  314323843279212      2017-04-01          7  2000818700008  1,073000   \n",
       "3  314323911727415      2017-04-01         15  6411200103295  1,000000   \n",
       "4  314323911727415      2017-04-01         15  6411402105806  1,000000   \n",
       "\n",
       "  PersonAgeGrp KCustomer QualClass EasyClass  \n",
       "0        45-54      6711     Q_4-7     E_4-7  \n",
       "1        45-54      6711     Q_4-7     E_4-7  \n",
       "2        45-54      6711     Q_4-7     E_4-7  \n",
       "3          65-      6715    Q_8-10     E_4-7  \n",
       "4          65-      6715    Q_8-10     E_4-7  "
      ]
     },
     "execution_count": 190,
     "metadata": {},
     "output_type": "execute_result"
    }
   ],
   "source": [
    "dfs.head()"
   ]
  },
  {
   "cell_type": "code",
   "execution_count": 192,
   "metadata": {},
   "outputs": [
    {
     "data": {
      "text/html": [
       "<div>\n",
       "<style scoped>\n",
       "    .dataframe tbody tr th:only-of-type {\n",
       "        vertical-align: middle;\n",
       "    }\n",
       "\n",
       "    .dataframe tbody tr th {\n",
       "        vertical-align: top;\n",
       "    }\n",
       "\n",
       "    .dataframe thead tr th {\n",
       "        text-align: left;\n",
       "    }\n",
       "\n",
       "    .dataframe thead tr:last-of-type th {\n",
       "        text-align: right;\n",
       "    }\n",
       "</style>\n",
       "<table border=\"1\" class=\"dataframe\">\n",
       "  <thead>\n",
       "    <tr>\n",
       "      <th>EAN</th>\n",
       "    </tr>\n",
       "  </thead>\n",
       "  <tbody>\n",
       "    <tr>\n",
       "      <th>1.700000e+01</th>\n",
       "    </tr>\n",
       "    <tr>\n",
       "      <th>2.400000e+01</th>\n",
       "    </tr>\n",
       "    <tr>\n",
       "      <th>3.100000e+01</th>\n",
       "    </tr>\n",
       "    <tr>\n",
       "      <th>4.800000e+01</th>\n",
       "    </tr>\n",
       "    <tr>\n",
       "      <th>5.500000e+01</th>\n",
       "    </tr>\n",
       "    <tr>\n",
       "      <th>6.200000e+01</th>\n",
       "    </tr>\n",
       "    <tr>\n",
       "      <th>7.900000e+01</th>\n",
       "    </tr>\n",
       "    <tr>\n",
       "      <th>8.600000e+01</th>\n",
       "    </tr>\n",
       "    <tr>\n",
       "      <th>9.300000e+01</th>\n",
       "    </tr>\n",
       "    <tr>\n",
       "      <th>1.090000e+02</th>\n",
       "    </tr>\n",
       "    <tr>\n",
       "      <th>1.160000e+02</th>\n",
       "    </tr>\n",
       "    <tr>\n",
       "      <th>1.230000e+02</th>\n",
       "    </tr>\n",
       "    <tr>\n",
       "      <th>1.300000e+02</th>\n",
       "    </tr>\n",
       "    <tr>\n",
       "      <th>1.470000e+02</th>\n",
       "    </tr>\n",
       "    <tr>\n",
       "      <th>1.540000e+02</th>\n",
       "    </tr>\n",
       "    <tr>\n",
       "      <th>1.610000e+02</th>\n",
       "    </tr>\n",
       "    <tr>\n",
       "      <th>1.780000e+02</th>\n",
       "    </tr>\n",
       "    <tr>\n",
       "      <th>1.850000e+02</th>\n",
       "    </tr>\n",
       "    <tr>\n",
       "      <th>1.920000e+02</th>\n",
       "    </tr>\n",
       "    <tr>\n",
       "      <th>2.080000e+02</th>\n",
       "    </tr>\n",
       "    <tr>\n",
       "      <th>2.150000e+02</th>\n",
       "    </tr>\n",
       "    <tr>\n",
       "      <th>2.220000e+02</th>\n",
       "    </tr>\n",
       "    <tr>\n",
       "      <th>2.390000e+02</th>\n",
       "    </tr>\n",
       "    <tr>\n",
       "      <th>2.460000e+02</th>\n",
       "    </tr>\n",
       "    <tr>\n",
       "      <th>2.530000e+02</th>\n",
       "    </tr>\n",
       "    <tr>\n",
       "      <th>2.600000e+02</th>\n",
       "    </tr>\n",
       "    <tr>\n",
       "      <th>2.770000e+02</th>\n",
       "    </tr>\n",
       "    <tr>\n",
       "      <th>2.840000e+02</th>\n",
       "    </tr>\n",
       "    <tr>\n",
       "      <th>2.910000e+02</th>\n",
       "    </tr>\n",
       "    <tr>\n",
       "      <th>3.070000e+02</th>\n",
       "    </tr>\n",
       "    <tr>\n",
       "      <th>...</th>\n",
       "    </tr>\n",
       "    <tr>\n",
       "      <th>9.789527e+12</th>\n",
       "    </tr>\n",
       "    <tr>\n",
       "      <th>9.789527e+12</th>\n",
       "    </tr>\n",
       "    <tr>\n",
       "      <th>9.789527e+12</th>\n",
       "    </tr>\n",
       "    <tr>\n",
       "      <th>9.789527e+12</th>\n",
       "    </tr>\n",
       "    <tr>\n",
       "      <th>9.789527e+12</th>\n",
       "    </tr>\n",
       "    <tr>\n",
       "      <th>9.789527e+12</th>\n",
       "    </tr>\n",
       "    <tr>\n",
       "      <th>9.789527e+12</th>\n",
       "    </tr>\n",
       "    <tr>\n",
       "      <th>9.789527e+12</th>\n",
       "    </tr>\n",
       "    <tr>\n",
       "      <th>9.789527e+12</th>\n",
       "    </tr>\n",
       "    <tr>\n",
       "      <th>9.789527e+12</th>\n",
       "    </tr>\n",
       "    <tr>\n",
       "      <th>9.789527e+12</th>\n",
       "    </tr>\n",
       "    <tr>\n",
       "      <th>9.789527e+12</th>\n",
       "    </tr>\n",
       "    <tr>\n",
       "      <th>9.789527e+12</th>\n",
       "    </tr>\n",
       "    <tr>\n",
       "      <th>9.789527e+12</th>\n",
       "    </tr>\n",
       "    <tr>\n",
       "      <th>9.789527e+12</th>\n",
       "    </tr>\n",
       "    <tr>\n",
       "      <th>9.789527e+12</th>\n",
       "    </tr>\n",
       "    <tr>\n",
       "      <th>9.789527e+12</th>\n",
       "    </tr>\n",
       "    <tr>\n",
       "      <th>9.789527e+12</th>\n",
       "    </tr>\n",
       "    <tr>\n",
       "      <th>9.789527e+12</th>\n",
       "    </tr>\n",
       "    <tr>\n",
       "      <th>9.789527e+12</th>\n",
       "    </tr>\n",
       "    <tr>\n",
       "      <th>9.789527e+12</th>\n",
       "    </tr>\n",
       "    <tr>\n",
       "      <th>9.789529e+12</th>\n",
       "    </tr>\n",
       "    <tr>\n",
       "      <th>9.789529e+12</th>\n",
       "    </tr>\n",
       "    <tr>\n",
       "      <th>9.789529e+12</th>\n",
       "    </tr>\n",
       "    <tr>\n",
       "      <th>9.789529e+12</th>\n",
       "    </tr>\n",
       "    <tr>\n",
       "      <th>9.789529e+12</th>\n",
       "    </tr>\n",
       "    <tr>\n",
       "      <th>9.789529e+12</th>\n",
       "    </tr>\n",
       "    <tr>\n",
       "      <th>9.789530e+12</th>\n",
       "    </tr>\n",
       "    <tr>\n",
       "      <th>9.789530e+12</th>\n",
       "    </tr>\n",
       "    <tr>\n",
       "      <th>9.789790e+12</th>\n",
       "    </tr>\n",
       "  </tbody>\n",
       "</table>\n",
       "<p>107135 rows × 0 columns</p>\n",
       "</div>"
      ],
      "text/plain": [
       "Empty DataFrame\n",
       "Columns: []\n",
       "Index: [17.0, 24.0, 31.0, 48.0, 55.0, 62.0, 79.0, 86.0, 93.0, 109.0, 116.0, 123.0, 130.0, 147.0, 154.0, 161.0, 178.0, 185.0, 192.0, 208.0, 215.0, 222.0, 239.0, 246.0, 253.0, 260.0, 277.0, 284.0, 291.0, 307.0, 314.0, 321.0, 338.0, 345.0, 352.0, 369.0, 376.0, 383.0, 390.0, 406.0, 413.0, 420.0, 437.0, 444.0, 451.0, 468.0, 475.0, 482.0, 499.0, 505.0, 512.0, 529.0, 536.0, 543.0, 550.0, 567.0, 574.0, 581.0, 598.0, 604.0, 611.0, 628.0, 642.0, 659.0, 666.0, 673.0, 680.0, 697.0, 703.0, 710.0, 727.0, 734.0, 741.0, 758.0, 765.0, 772.0, 789.0, 796.0, 802.0, 819.0, 826.0, 833.0, 840.0, 857.0, 864.0, 871.0, 888.0, 895.0, 901.0, 918.0, 925.0, 932.0, 949.0, 956.0, 963.0, 970.0, 987.0, 994.0, 1007.0, 1014.0, ...]\n",
       "\n",
       "[107135 rows x 0 columns]"
      ]
     },
     "execution_count": 192,
     "metadata": {},
     "output_type": "execute_result"
    }
   ],
   "source": [
    "ean_pivot3 = KCustomer.pivot_table(index='EAN', values='KCustomer', columns='KCustomer', aggfunc='count').compute()\n",
    "ean_pivot3\n",
    "#customer_pivot = KCustomer.pivot_table(values='EAN', index='KCustomer', columns='KCustomer', aggfunc='count').compute()"
   ]
  },
  {
   "cell_type": "code",
   "execution_count": null,
   "metadata": {
    "collapsed": true
   },
   "outputs": [],
   "source": []
  },
  {
   "cell_type": "code",
   "execution_count": 115,
   "metadata": {},
   "outputs": [
    {
     "name": "stdout",
     "output_type": "stream",
     "text": [
      "Help on function pivot_table in module dask.dataframe.reshape:\n",
      "\n",
      "pivot_table(df, index=None, columns=None, values=None, aggfunc='mean')\n",
      "    Create a spreadsheet-style pivot table as a DataFrame. Target ``columns``\n",
      "    must have category dtype to infer result's ``columns``.\n",
      "    ``index``, ``columns``, ``values`` and ``aggfunc`` must be all scalar.\n",
      "    \n",
      "    Parameters\n",
      "    ----------\n",
      "    data : DataFrame\n",
      "    values : scalar\n",
      "        column to aggregate\n",
      "    index : scalar\n",
      "        column to be index\n",
      "    columns : scalar\n",
      "        column to be columns\n",
      "    aggfunc : {'mean', 'sum', 'count'}, default 'mean'\n",
      "    \n",
      "    Returns\n",
      "    -------\n",
      "    table : DataFrame\n",
      "\n"
     ]
    }
   ],
   "source": [
    "help(dd.pivot_table)"
   ]
  },
  {
   "cell_type": "code",
   "execution_count": null,
   "metadata": {
    "collapsed": true
   },
   "outputs": [],
   "source": [
    "popularity_pivot = KCustomer.pivo"
   ]
  },
  {
   "cell_type": "code",
   "execution_count": 77,
   "metadata": {},
   "outputs": [
    {
     "data": {
      "text/html": [
       "<div>\n",
       "<style scoped>\n",
       "    .dataframe tbody tr th:only-of-type {\n",
       "        vertical-align: middle;\n",
       "    }\n",
       "\n",
       "    .dataframe tbody tr th {\n",
       "        vertical-align: top;\n",
       "    }\n",
       "\n",
       "    .dataframe thead th {\n",
       "        text-align: right;\n",
       "    }\n",
       "</style>\n",
       "<table border=\"1\" class=\"dataframe\">\n",
       "  <thead>\n",
       "    <tr style=\"text-align: right;\">\n",
       "      <th></th>\n",
       "      <th>EAN</th>\n",
       "    </tr>\n",
       "    <tr>\n",
       "      <th>KCustomer</th>\n",
       "      <th></th>\n",
       "    </tr>\n",
       "  </thead>\n",
       "  <tbody>\n",
       "    <tr>\n",
       "      <th>6711</th>\n",
       "      <td>2068</td>\n",
       "    </tr>\n",
       "    <tr>\n",
       "      <th>6712</th>\n",
       "      <td>2132</td>\n",
       "    </tr>\n",
       "    <tr>\n",
       "      <th>6713</th>\n",
       "      <td>2111</td>\n",
       "    </tr>\n",
       "    <tr>\n",
       "      <th>6714</th>\n",
       "      <td>1612</td>\n",
       "    </tr>\n",
       "    <tr>\n",
       "      <th>6715</th>\n",
       "      <td>2077</td>\n",
       "    </tr>\n",
       "  </tbody>\n",
       "</table>\n",
       "</div>"
      ],
      "text/plain": [
       "            EAN\n",
       "KCustomer      \n",
       "6711       2068\n",
       "6712       2132\n",
       "6713       2111\n",
       "6714       1612\n",
       "6715       2077"
      ]
     },
     "execution_count": 77,
     "metadata": {},
     "output_type": "execute_result"
    }
   ],
   "source": [
    "pd.pivot_table(df2, values='EAN', index='KCustomer', aggfunc=len)"
   ]
  },
  {
   "cell_type": "code",
   "execution_count": null,
   "metadata": {
    "collapsed": true
   },
   "outputs": [],
   "source": []
  },
  {
   "cell_type": "code",
   "execution_count": 19,
   "metadata": {},
   "outputs": [
    {
     "name": "stderr",
     "output_type": "stream",
     "text": [
      "C:\\Users\\mattisi\\Anaconda3\\lib\\site-packages\\dask\\dataframe\\core.py:3684: RuntimeWarning: invalid value encountered in sqrt\n",
      "  df = func(*args, **kwargs)\n"
     ]
    },
    {
     "data": {
      "text/html": [
       "<div>\n",
       "<style scoped>\n",
       "    .dataframe tbody tr th:only-of-type {\n",
       "        vertical-align: middle;\n",
       "    }\n",
       "\n",
       "    .dataframe tbody tr th {\n",
       "        vertical-align: top;\n",
       "    }\n",
       "\n",
       "    .dataframe thead th {\n",
       "        text-align: right;\n",
       "    }\n",
       "</style>\n",
       "<table border=\"1\" class=\"dataframe\">\n",
       "  <thead>\n",
       "    <tr style=\"text-align: right;\">\n",
       "      <th></th>\n",
       "      <th>Receipt</th>\n",
       "      <th>BeginHour</th>\n",
       "      <th>EAN</th>\n",
       "      <th>KCustomer</th>\n",
       "    </tr>\n",
       "  </thead>\n",
       "  <tbody>\n",
       "    <tr>\n",
       "      <th>count</th>\n",
       "      <td>1.000000e+04</td>\n",
       "      <td>10000.000000</td>\n",
       "      <td>1.000000e+04</td>\n",
       "      <td>10000.00000</td>\n",
       "    </tr>\n",
       "    <tr>\n",
       "      <th>mean</th>\n",
       "      <td>3.143385e+14</td>\n",
       "      <td>14.816000</td>\n",
       "      <td>5.690275e+12</td>\n",
       "      <td>6712.94980</td>\n",
       "    </tr>\n",
       "    <tr>\n",
       "      <th>std</th>\n",
       "      <td>NaN</td>\n",
       "      <td>3.282837</td>\n",
       "      <td>NaN</td>\n",
       "      <td>1.42481</td>\n",
       "    </tr>\n",
       "    <tr>\n",
       "      <th>min</th>\n",
       "      <td>3.143238e+14</td>\n",
       "      <td>5.000000</td>\n",
       "      <td>1.700000e+01</td>\n",
       "      <td>6711.00000</td>\n",
       "    </tr>\n",
       "    <tr>\n",
       "      <th>25%</th>\n",
       "      <td>3.143315e+14</td>\n",
       "      <td>12.000000</td>\n",
       "      <td>6.407868e+12</td>\n",
       "      <td>6712.00000</td>\n",
       "    </tr>\n",
       "    <tr>\n",
       "      <th>50%</th>\n",
       "      <td>3.143387e+14</td>\n",
       "      <td>15.000000</td>\n",
       "      <td>6.410405e+12</td>\n",
       "      <td>6713.00000</td>\n",
       "    </tr>\n",
       "    <tr>\n",
       "      <th>75%</th>\n",
       "      <td>3.143457e+14</td>\n",
       "      <td>17.000000</td>\n",
       "      <td>6.415350e+12</td>\n",
       "      <td>6714.00000</td>\n",
       "    </tr>\n",
       "    <tr>\n",
       "      <th>max</th>\n",
       "      <td>3.143522e+14</td>\n",
       "      <td>22.000000</td>\n",
       "      <td>9.789523e+12</td>\n",
       "      <td>6715.00000</td>\n",
       "    </tr>\n",
       "  </tbody>\n",
       "</table>\n",
       "</div>"
      ],
      "text/plain": [
       "            Receipt     BeginHour           EAN    KCustomer\n",
       "count  1.000000e+04  10000.000000  1.000000e+04  10000.00000\n",
       "mean   3.143385e+14     14.816000  5.690275e+12   6712.94980\n",
       "std             NaN      3.282837           NaN      1.42481\n",
       "min    3.143238e+14      5.000000  1.700000e+01   6711.00000\n",
       "25%    3.143315e+14     12.000000  6.407868e+12   6712.00000\n",
       "50%    3.143387e+14     15.000000  6.410405e+12   6713.00000\n",
       "75%    3.143457e+14     17.000000  6.415350e+12   6714.00000\n",
       "max    3.143522e+14     22.000000  9.789523e+12   6715.00000"
      ]
     },
     "execution_count": 19,
     "metadata": {},
     "output_type": "execute_result"
    }
   ],
   "source": [
    "df.describe().compute()"
   ]
  },
  {
   "cell_type": "code",
   "execution_count": null,
   "metadata": {
    "collapsed": true
   },
   "outputs": [],
   "source": []
  }
 ],
 "metadata": {
  "kernelspec": {
   "display_name": "Python 3",
   "language": "python",
   "name": "python3"
  },
  "language_info": {
   "codemirror_mode": {
    "name": "ipython",
    "version": 3
   },
   "file_extension": ".py",
   "mimetype": "text/x-python",
   "name": "python",
   "nbconvert_exporter": "python",
   "pygments_lexer": "ipython3",
   "version": "3.6.1"
  }
 },
 "nbformat": 4,
 "nbformat_minor": 2
}
